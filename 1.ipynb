{
 "cells": [
  {
   "cell_type": "code",
   "execution_count": null,
   "id": "d453dc7f",
   "metadata": {},
   "outputs": [],
   "source": [
    "import matplotlib.pyplot as plt\n",
    "import numpy as np\n",
    "\n",
    "def quadratic_model(time):\n",
    "    a = 0.1\n",
    "    b = -1\n",
    "    c = 30\n",
    "\n",
    "    temperature = a*(time**2) + b*time + c\n",
    "    return temperature\n",
    "\n",
    "def main():\n",
    "    time_values = np.linspace(0, 10, 50)\n",
    "\n",
    "    temperature_values = quadratic_model(time_values)\n",
    "    plt.plot(time_values, temperature_values, label='Hard Coded Coefficient')\n",
    "    plt.xlabel('Time')\n",
    "    plt.ylabel('Temperature')\n",
    "    plt.legend()\n",
    "    plt.title('Quadratic equation with hard coded coefficient')\n",
    "    plt.show()\n",
    "\n",
    "if __name__ == '__main__':\n",
    "    main()"
   ]
  }
 ],
 "metadata": {
  "kernelspec": {
   "display_name": "Python 3",
   "language": "python",
   "name": "python3"
  },
  "language_info": {
   "codemirror_mode": {
    "name": "ipython",
    "version": 3
   },
   "file_extension": ".py",
   "mimetype": "text/x-python",
   "name": "python",
   "nbconvert_exporter": "python",
   "pygments_lexer": "ipython3",
   "version": "3.8.5"
  }
 },
 "nbformat": 4,
 "nbformat_minor": 5
}
